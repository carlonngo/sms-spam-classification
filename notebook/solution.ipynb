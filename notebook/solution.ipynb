{
 "cells": [
  {
   "cell_type": "code",
   "execution_count": 2,
   "metadata": {},
   "outputs": [],
   "source": [
    "import matplotlib.pyplot as plt\n",
    "import seaborn as sns\n",
    "import pandas as pd\n",
    "import csv\n",
    "from sklearn.preprocessing import LabelEncoder\n",
    "from sklearn.model_selection import train_test_split\n",
    "from sklearn.ensemble import RandomForestClassifier\n",
    "from sklearn.svm import SVC\n",
    "from xgboost import XGBClassifier\n",
    "from sklearn.linear_model import LogisticRegression\n",
    "from imblearn.pipeline import Pipeline\n",
    "from imblearn.over_sampling import SMOTE\n",
    "from sklearn.model_selection import RandomizedSearchCV\n",
    "from sklearn.model_selection import cross_val_score\n",
    "from sklearn.metrics import f1_score, confusion_matrix, ConfusionMatrixDisplay\n",
    "import joblib\n",
    "\n",
    "import sys\n",
    "sys.path.append('../code/')\n",
    "from message_preprocessor import MessagePreprocessor\n",
    "import constants as c"
   ]
  },
  {
   "cell_type": "code",
   "execution_count": 3,
   "metadata": {},
   "outputs": [
    {
     "name": "stdout",
     "output_type": "stream",
     "text": [
      "<class 'pandas.core.frame.DataFrame'>\n",
      "RangeIndex: 5574 entries, 0 to 5573\n",
      "Data columns (total 2 columns):\n",
      " #   Column  Non-Null Count  Dtype \n",
      "---  ------  --------------  ----- \n",
      " 0   label   5574 non-null   object\n",
      " 1   body    5574 non-null   object\n",
      "dtypes: object(2)\n",
      "memory usage: 87.2+ KB\n"
     ]
    }
   ],
   "source": [
    "df = pd.read_csv(c.RAW_FILE, header=None, delimiter='\\t', quoting=csv.QUOTE_NONE)\n",
    "df.columns = ['label', 'body']\n",
    "df.info()"
   ]
  },
  {
   "attachments": {},
   "cell_type": "markdown",
   "metadata": {},
   "source": [
    "SMSSpamCollection file read as DataFrame with 5574 entries(as referenced in raw file). label column is the intended classification (spam/ham) and body column contains the string of messages"
   ]
  },
  {
   "cell_type": "code",
   "execution_count": 4,
   "metadata": {},
   "outputs": [
    {
     "data": {
      "text/plain": [
       "5574"
      ]
     },
     "execution_count": 4,
     "metadata": {},
     "output_type": "execute_result"
    }
   ],
   "source": [
    "len(df.dropna(how='any', axis=1))"
   ]
  },
  {
   "attachments": {},
   "cell_type": "markdown",
   "metadata": {},
   "source": [
    "No missing values in the dataframe"
   ]
  },
  {
   "cell_type": "code",
   "execution_count": 5,
   "metadata": {},
   "outputs": [
    {
     "data": {
      "text/plain": [
       "Text(0, 0.5, 'Number of cases')"
      ]
     },
     "execution_count": 5,
     "metadata": {},
     "output_type": "execute_result"
    },
    {
     "data": {
      "image/png": "[encoded data removed]",
      "text/plain": [
       "<Figure size 864x576 with 1 Axes>"
      ]
     },
     "metadata": {
      "needs_background": "light"
     },
     "output_type": "display_data"
    }
   ],
   "source": [
    "plt.figure(figsize=(12,8))\n",
    "fg = sns.countplot(x= df[\"label\"])\n",
    "fg.set_title(\"Count Plot of Classifications\")\n",
    "fg.set_xlabel(\"Target\")\n",
    "fg.set_ylabel(\"Number of cases\")"
   ]
  },
  {
   "attachments": {},
   "cell_type": "markdown",
   "metadata": {},
   "source": [
    "NOTE: The number of spam classes is significantly lower than the number of ham. This is a case of data imbalance as expected from spam classification problems. We may need to treat this via synthetic oversampling later."
   ]
  },
  {
   "attachments": {},
   "cell_type": "markdown",
   "metadata": {},
   "source": [
    "FEATURE ENGINEERING"
   ]
  },
  {
   "cell_type": "code",
   "execution_count": 6,
   "metadata": {},
   "outputs": [
    {
     "data": {
      "text/html": [
       "<div>\n",
       "<style scoped>\n",
       "    .dataframe tbody tr th:only-of-type {\n",
       "        vertical-align: middle;\n",
       "    }\n",
       "\n",
       "    .dataframe tbody tr th {\n",
       "        vertical-align: top;\n",
       "    }\n",
       "\n",
       "    .dataframe thead th {\n",
       "        text-align: right;\n",
       "    }\n",
       "</style>\n",
       "<table border=\"1\" class=\"dataframe\">\n",
       "  <thead>\n",
       "    <tr style=\"text-align: right;\">\n",
       "      <th></th>\n",
       "      <th>body_len</th>\n",
       "    </tr>\n",
       "  </thead>\n",
       "  <tbody>\n",
       "    <tr>\n",
       "      <th>count</th>\n",
       "      <td>5574.000000</td>\n",
       "    </tr>\n",
       "    <tr>\n",
       "      <th>mean</th>\n",
       "      <td>80.478292</td>\n",
       "    </tr>\n",
       "    <tr>\n",
       "      <th>std</th>\n",
       "      <td>59.848302</td>\n",
       "    </tr>\n",
       "    <tr>\n",
       "      <th>min</th>\n",
       "      <td>2.000000</td>\n",
       "    </tr>\n",
       "    <tr>\n",
       "      <th>25%</th>\n",
       "      <td>36.000000</td>\n",
       "    </tr>\n",
       "    <tr>\n",
       "      <th>50%</th>\n",
       "      <td>62.000000</td>\n",
       "    </tr>\n",
       "    <tr>\n",
       "      <th>75%</th>\n",
       "      <td>122.000000</td>\n",
       "    </tr>\n",
       "    <tr>\n",
       "      <th>max</th>\n",
       "      <td>910.000000</td>\n",
       "    </tr>\n",
       "  </tbody>\n",
       "</table>\n",
       "</div>"
      ],
      "text/plain": [
       "          body_len\n",
       "count  5574.000000\n",
       "mean     80.478292\n",
       "std      59.848302\n",
       "min       2.000000\n",
       "25%      36.000000\n",
       "50%      62.000000\n",
       "75%     122.000000\n",
       "max     910.000000"
      ]
     },
     "execution_count": 6,
     "metadata": {},
     "output_type": "execute_result"
    }
   ],
   "source": [
    "df['body_len'] = df['body'].str.len()\n",
    "df.describe()"
   ]
  },
  {
   "attachments": {},
   "cell_type": "markdown",
   "metadata": {},
   "source": [
    "The mean body_len is 80.4 and we have values around 910. This indicates the presence outliers. Let's remove data that are 3(default) standard deviattion away (80.49 + 3 * 59.84)=260.01 from the central value."
   ]
  },
  {
   "cell_type": "code",
   "execution_count": 7,
   "metadata": {},
   "outputs": [
    {
     "data": {
      "text/plain": [
       "5510"
      ]
     },
     "execution_count": 7,
     "metadata": {},
     "output_type": "execute_result"
    }
   ],
   "source": [
    "df = df[df['body_len'] <= 260]\n",
    "len(df)"
   ]
  },
  {
   "attachments": {},
   "cell_type": "markdown",
   "metadata": {},
   "source": [
    "We lost 64 rows in doing so, but that should be fine as the outliers can mess up our data/model"
   ]
  },
  {
   "cell_type": "code",
   "execution_count": 8,
   "metadata": {},
   "outputs": [
    {
     "data": {
      "text/plain": [
       "<Figure size 864x360 with 0 Axes>"
      ]
     },
     "metadata": {},
     "output_type": "display_data"
    },
    {
     "data": {
      "image/png": "[encoded data removed]",
      "text/plain": [
       "<Figure size 423.25x360 with 1 Axes>"
      ]
     },
     "metadata": {
      "needs_background": "light"
     },
     "output_type": "display_data"
    }
   ],
   "source": [
    "import seaborn as sns\n",
    "plt.figure(figsize=(12,5))\n",
    "fg = sns.displot(df, x='body_len', hue='label', kde=False)\n"
   ]
  },
  {
   "attachments": {},
   "cell_type": "markdown",
   "metadata": {},
   "source": [
    "Majority of the ham messages are shorter than spam messages. This feature may prove to be worthwhile in the latter steps"
   ]
  },
  {
   "attachments": {},
   "cell_type": "markdown",
   "metadata": {},
   "source": [
    "DATA PREPROCESSING - Involves several steps to prepare the data into a format compatible with ML algorithms/frameworks\n",
    "* Data Cleaning\n",
    "* Tokenization\n",
    "* Removing Stop Words\n",
    "* Lemmatization\n",
    "* Vectorization"
   ]
  },
  {
   "attachments": {},
   "cell_type": "markdown",
   "metadata": {},
   "source": [
    "DATA PREPROCESSING - Data Cleaning\\\n",
    "When working the NLP we want to remove/drop special characters in the dataset because:\n",
    "* They hold little to no information.\n",
    "* They may introduce noise\n",
    "* Dropping them would reduce the number of vocabulary that our model has to \"learn\". This makes it easier to arrive at an optimal solution\n",
    "\n",
    "Another best practice is to lowercase all characters. That way the model won't have treat the same word with different captialization as different entities.\n",
    "\n",
    "To do this I packaged the preprocessig functionalities we need into a class which we can reuse in the inference code."
   ]
  },
  {
   "cell_type": "code",
   "execution_count": 9,
   "metadata": {},
   "outputs": [
    {
     "data": {
      "text/plain": [
       "5553    Wen did you get so spiritual and deep. That's ...\n",
       "5554    Have a safe trip to Nigeria. Wish you happines...\n",
       "5555                          Hahaha..use your brain dear\n",
       "5556    Well keep in mind I've only got enough gas for...\n",
       "5557    Yeh. Indians was nice. Tho it did kane me off ...\n",
       "5558    Yes i have. So that's why u texted. Pshew...mi...\n",
       "5560                               Sorry, I'll call later\n",
       "5561    if you aren't here in the next  &lt;#&gt;  hou...\n",
       "5562                    Anything lor. Juz both of us lor.\n",
       "5563    Get me out of this dump heap. My mom decided t...\n",
       "5564    Ok lor... Sony ericsson salesman... I ask shuh...\n",
       "5565                                  Ard 6 like dat lor.\n",
       "5566    Why don't you wait 'til at least wednesday to ...\n",
       "5567                                         Huh y lei...\n",
       "5568    REMINDER FROM O2: To get 2.50 pounds free call...\n",
       "5569    This is the 2nd time we have tried 2 contact u...\n",
       "5570                 Will ü b going to esplanade fr home?\n",
       "5571    Pity, * was in mood for that. So...any other s...\n",
       "5572    The guy did some bitching but I acted like i'd...\n",
       "5573                           Rofl. Its true to its name\n",
       "Name: body, dtype: object"
      ]
     },
     "execution_count": 9,
     "metadata": {},
     "output_type": "execute_result"
    }
   ],
   "source": [
    "df['body'].tail(20)"
   ]
  },
  {
   "attachments": {},
   "cell_type": "markdown",
   "metadata": {},
   "source": [
    "Above is the raw version of the message body. Observations:\n",
    "* There numbers of special characters.\n",
    "* At index 5561 we can also see the body to have html characters.\n",
    "* Message body is mixed-case"
   ]
  },
  {
   "cell_type": "code",
   "execution_count": 10,
   "metadata": {},
   "outputs": [],
   "source": [
    "message_preprocessor = MessagePreprocessor()\n",
    "df['clean_body'] = message_preprocessor.clean_text(df['body'])"
   ]
  },
  {
   "cell_type": "code",
   "execution_count": 11,
   "metadata": {},
   "outputs": [
    {
     "data": {
      "text/plain": [
       "5553    wen did you get so spiritual and deep  that s ...\n",
       "5554    have a safe trip to nigeria  wish you happines...\n",
       "5555                          hahaha  use your brain dear\n",
       "5556    well keep in mind i ve only got enough gas for...\n",
       "5557    yeh  indians was nice  tho it did kane me off ...\n",
       "5558    yes i have  so that s why u texted  pshew   mi...\n",
       "5560                               sorry  i ll call later\n",
       "5561    if you aren t here in the next       hours imm...\n",
       "5562                    anything lor  juz both of us lor \n",
       "5563    get me out of this dump heap  my mom decided t...\n",
       "5564    ok lor    sony ericsson salesman    i ask shuh...\n",
       "5565                                  ard   like dat lor \n",
       "5566    why don t you wait  til at least wednesday to ...\n",
       "5567                                         huh y lei   \n",
       "5568    reminder from o   to get      pounds free call...\n",
       "5569    this is the  nd time we have tried   contact u...\n",
       "5570                 will   b going to esplanade fr home \n",
       "5571    pity    was in mood for that  so   any other s...\n",
       "5572    the guy did some bitching but i acted like i d...\n",
       "5573                           rofl  its true to its name\n",
       "Name: clean_body, dtype: object"
      ]
     },
     "execution_count": 11,
     "metadata": {},
     "output_type": "execute_result"
    }
   ],
   "source": [
    "df['clean_body'] .tail(20)"
   ]
  },
  {
   "attachments": {},
   "cell_type": "markdown",
   "metadata": {},
   "source": [
    "After running remove_special_character(), we can see that the special characters (including the html characters) are removed and all of the characters are lowercased."
   ]
  },
  {
   "attachments": {},
   "cell_type": "markdown",
   "metadata": {},
   "source": [
    "DATA PREPROCESSING - Tokenization\\\n",
    "The goal of this step is to split the messages into individual words(tokens). This makes it easier to easier to vectorize(convert to numerical value) the message data"
   ]
  },
  {
   "cell_type": "code",
   "execution_count": 12,
   "metadata": {},
   "outputs": [
    {
     "data": {
      "text/plain": [
       "0    [go, until, jurong, point, crazy, available, o...\n",
       "1                       [ok, lar, joking, wif, u, oni]\n",
       "2    [free, entry, in, a, wkly, comp, to, win, fa, ...\n",
       "3    [u, dun, say, so, early, hor, u, c, already, t...\n",
       "4    [nah, i, don, t, think, he, goes, to, usf, he,...\n",
       "Name: tokenized_text, dtype: object"
      ]
     },
     "execution_count": 12,
     "metadata": {},
     "output_type": "execute_result"
    }
   ],
   "source": [
    "df['tokenized_text'] = message_preprocessor.tokenize(df['clean_body'])\n",
    "df['tokenized_text'].head()"
   ]
  },
  {
   "attachments": {},
   "cell_type": "markdown",
   "metadata": {},
   "source": [
    "DATA PREPROCESSING - Stop Words\\\n",
    "Stop words are words that are used to make the grammar work but do not really hold much information especially in NLP. Removing these would simplify the things our algorithm has to learn."
   ]
  },
  {
   "cell_type": "code",
   "execution_count": 13,
   "metadata": {},
   "outputs": [
    {
     "data": {
      "text/plain": [
       "0    [go, jurong, point, crazy, available, bugis, n...\n",
       "1                       [ok, lar, joking, wif, u, oni]\n",
       "2    [free, entry, wkly, comp, win, fa, cup, final,...\n",
       "3        [u, dun, say, early, hor, u, c, already, say]\n",
       "4       [nah, think, goes, usf, lives, around, though]\n",
       "Name: go_text, dtype: object"
      ]
     },
     "execution_count": 13,
     "metadata": {},
     "output_type": "execute_result"
    }
   ],
   "source": [
    "df['go_text'] = message_preprocessor.remove_stop_words(df['tokenized_text'])\n",
    "df['go_text'].head()\n"
   ]
  },
  {
   "attachments": {},
   "cell_type": "markdown",
   "metadata": {},
   "source": [
    "DATA PREPROCESSING - LEMMATIZATION\\\n",
    "Lemmatization and stemming are techniques to convert words into their rootword (e.g., horses->horse). Doing so, would reduce the number of distinct words that the ML has to process.\\\n",
    "Lemmatization takes the context into consideration while stemming is a little naive. Stemming the word caring would result to car, while lemmatization produces care. For this reason, we will use lemmatization.\\\n",
    "NOTE: Lemmatization is computationally more expensive than stemming.\n"
   ]
  },
  {
   "cell_type": "code",
   "execution_count": 14,
   "metadata": {},
   "outputs": [
    {
     "data": {
      "text/plain": [
       "0    [go, jurong, point, crazy, available, bugis, n...\n",
       "1                       [ok, lar, joking, wif, u, oni]\n",
       "2    [free, entry, wkly, comp, win, fa, cup, final,...\n",
       "3        [u, dun, say, early, hor, u, c, already, say]\n",
       "4          [nah, think, go, usf, life, around, though]\n",
       "Name: lemmatized_text, dtype: object"
      ]
     },
     "execution_count": 14,
     "metadata": {},
     "output_type": "execute_result"
    }
   ],
   "source": [
    "df['lemmatized_text'] = message_preprocessor.lemmatize(df['go_text'])\n",
    "df['lemmatized_text'].head()\n"
   ]
  },
  {
   "attachments": {},
   "cell_type": "markdown",
   "metadata": {},
   "source": [
    "DATA PREPROCESSING - VECTORIZATION\\\n",
    "The previous preprocessing steps were mostly focused on trimming down the messages to only contain the most important words. However, machine learning algorithms are not compatible with strings, that is why we need to convert it to numbers.\\\n",
    "\n",
    "To do this, we will use TF-IDF which stands for Term Frequency - Inverse Document Frequency.\n",
    "* Term Frequency - the number of times a word appears in a sentence.\n",
    "* Inverse Document Frequency - the number of times the word appears in the whole dataset.\n",
    "\n",
    "\n",
    "Essentially, words that appears a lot in a sentence, but is rare across all documents will have a large value. Meaning they hold a lot of context for that sentence."
   ]
  },
  {
   "cell_type": "code",
   "execution_count": 15,
   "metadata": {},
   "outputs": [],
   "source": [
    "(vectorizer, vectorized_text) = message_preprocessor.vectorize(df['lemmatized_text'])\n",
    "X = vectorized_text"
   ]
  },
  {
   "cell_type": "code",
   "execution_count": 16,
   "metadata": {},
   "outputs": [],
   "source": [
    "#Convert spam/ham labels to 1/0\n",
    "label_encoder = LabelEncoder()\n",
    "y = label_encoder.fit_transform(df[\"label\"])"
   ]
  },
  {
   "attachments": {},
   "cell_type": "markdown",
   "metadata": {},
   "source": [
    "Shortlisting Models\\\n",
    "The goal here is to quickly train different classifiers against our data. The best performing one will then be fine-tuned.\\\n",
    "To do this:\n",
    "* Split the dataset into train and test groups. Make sure the test data is never used for training.\n",
    "* fit() different instances of the classifiers\n",
    "* evaluate performance via k-fold cross validation using f1-score(since this is a classification problem and we have no preference between False Positives and False Negatives)"
   ]
  },
  {
   "cell_type": "code",
   "execution_count": 17,
   "metadata": {},
   "outputs": [],
   "source": [
    "X_train, X_test, y_train, y_test = train_test_split(X, y, test_size=0.2, random_state=42)"
   ]
  },
  {
   "cell_type": "code",
   "execution_count": 21,
   "metadata": {},
   "outputs": [],
   "source": [
    "#Testing on the following classifiers\n",
    "classifiers = [XGBClassifier(),\n",
    "               RandomForestClassifier(),\n",
    "               SVC(),\n",
    "               LogisticRegression()]\n",
    "for cls in classifiers:\n",
    "    cls.fit(X_train, y_train)\n"
   ]
  },
  {
   "cell_type": "code",
   "execution_count": 22,
   "metadata": {},
   "outputs": [
    {
     "name": "stdout",
     "output_type": "stream",
     "text": [
      "XGB: 0.908009 \n",
      "RandomForest: 0.914748 \n",
      "SVC: 0.898801 \n",
      "Log: 0.839271 \n"
     ]
    }
   ],
   "source": [
    "# Dictionary of pipelines and model types for ease of reference\n",
    "pipe_dict = {0: \"XGB\", 1: \"RandomForest\", 2: \"SVC\", 3: \"Log\"}\n",
    "# Cossvalidation \n",
    "for i, model in enumerate(classifiers):\n",
    "    cv_score = cross_val_score(model, X_train, y_train, scoring=\"f1\", cv=10)\n",
    "    print(\"%s: %f \" % (pipe_dict[i], cv_score.mean()))"
   ]
  },
  {
   "attachments": {},
   "cell_type": "markdown",
   "metadata": {},
   "source": [
    "The RandomForest classifier looks promising. Let's see if we can improve it further."
   ]
  },
  {
   "attachments": {},
   "cell_type": "markdown",
   "metadata": {},
   "source": [
    "Since we are working on an imbalanced dataset, let's try to treat with a Synthetic Minority Oversampling Technique(SMOTE). This will add more cases of minority spam label, and will theoretically help our model familiarize those data better. \\\n",
    "We can package SMOTE and our classifier in a sklearn pipeline so that SMOTE will only be applied during training and not in validation, testing and inference."
   ]
  },
  {
   "cell_type": "code",
   "execution_count": 18,
   "metadata": {},
   "outputs": [
    {
     "name": "stdout",
     "output_type": "stream",
     "text": [
      "0.9267340426646685\n"
     ]
    }
   ],
   "source": [
    "model = Pipeline(\n",
    "    steps = [('sampling', SMOTE()),('classification', RandomForestClassifier())]\n",
    ")\n",
    "model.fit(X_train, y_train)\n",
    "cv_score = cross_val_score(model, X_train, y_train, scoring=\"f1\", cv=5)\n",
    "print(cv_score.mean())"
   ]
  },
  {
   "attachments": {},
   "cell_type": "markdown",
   "metadata": {},
   "source": [
    "Looks like the SMOTE gave us a little bit of performance boost. Let's keep it."
   ]
  },
  {
   "attachments": {},
   "cell_type": "markdown",
   "metadata": {},
   "source": [
    "Another approach is to fine tune the hyperparameters(learning parameters) of our model. On the previous training steps, we have been using the default values. Let's try to explore different combinations of these parameters via RandomizedSearchCV."
   ]
  },
  {
   "cell_type": "code",
   "execution_count": null,
   "metadata": {},
   "outputs": [],
   "source": [
    "model = Pipeline(\n",
    "    steps = [('sampling', SMOTE()),('classification', RandomForestClassifier())]\n",
    ")\n",
    "rfc_params = {\n",
    "    'classification__bootstrap': [True, False],\n",
    "    'classification__max_depth': [10, 20, 30, 40, 50, 60, 70, 80, 90, 100, None],\n",
    "    'classification__max_features': ['auto', 'sqrt'],\n",
    "    'classification__min_samples_leaf': [1, 2, 4],\n",
    "    'classification__min_samples_split': [2, 5, 10],\n",
    "    'classification__n_estimators': [200, 400, 600, 800, 1000, 1200, 1400, 1600, 1800, 2000]\n",
    " }\n",
    "rfc_gs = RandomizedSearchCV(model, rfc_params, cv=5, verbose=3, n_jobs=-1, scoring='f1', n_iter=2)\n",
    "\n",
    "rfc_gs.fit(X_train, y_train)\n",
    "cv_results = pd.DataFrame(rfc_gs.cv_results_)\n",
    "cv_results.sort_values(by='rank_test_score').head()"
   ]
  },
  {
   "attachments": {},
   "cell_type": "markdown",
   "metadata": {},
   "source": [
    "MODEL EVALUATION\\\n",
    "In the previous steps we trained different models and fine tuned the RandomForestClassifier entirely on the training set. Now it is time to test the model against data that it has never seen before. This is why we separated 20% of our data at the beginning of the training phase."
   ]
  },
  {
   "cell_type": "code",
   "execution_count": 19,
   "metadata": {},
   "outputs": [],
   "source": [
    "preds = model.predict(X_test)"
   ]
  },
  {
   "cell_type": "code",
   "execution_count": 20,
   "metadata": {},
   "outputs": [
    {
     "data": {
      "text/plain": [
       "<sklearn.metrics._plot.confusion_matrix.ConfusionMatrixDisplay at 0x22c30869088>"
      ]
     },
     "execution_count": 20,
     "metadata": {},
     "output_type": "execute_result"
    },
    {
     "data": {
      "image/png": "[encoded data removed]",
      "text/plain": [
       "<Figure size 432x288 with 2 Axes>"
      ]
     },
     "metadata": {
      "needs_background": "light"
     },
     "output_type": "display_data"
    }
   ],
   "source": [
    "cm = confusion_matrix(y_test, preds)\n",
    "ConfusionMatrixDisplay(confusion_matrix=cm, display_labels=model.classes_).plot()"
   ]
  },
  {
   "cell_type": "code",
   "execution_count": 21,
   "metadata": {},
   "outputs": [
    {
     "data": {
      "text/plain": [
       "0.9389312977099237"
      ]
     },
     "execution_count": 21,
     "metadata": {},
     "output_type": "execute_result"
    }
   ],
   "source": [
    "f1_score(y_test, preds)"
   ]
  },
  {
   "attachments": {},
   "cell_type": "markdown",
   "metadata": {},
   "source": [
    "CONCLUSION:\n",
    "\n",
    "Confusion Matrix:\n",
    "* True Positives(124) - The number of spams correctly predicted as spams, we want to maximize this\n",
    "* True Negatives(963) - The number of hams correctly predicted as hams, we want to maximize this\n",
    "* False Positives(0)  - The number of hams mispredicted as spams, we want to minimize this\n",
    "* False Negatives(15) - The number of spams mispredicted as hams, we want to minimize this\n",
    "\n",
    "F1_SCORE(0.943) - Ideally 1\n",
    "\n",
    "In terms of accuracy of classification, I'd say this is a pretty good model since the F1 Score is close to 1. Having no false positives is also a good tradeoff against a few number of false positives. Of course it is ideal to have 0 false positives, but I think people would prefer to receive few spams than to have their messages blocked for no reason."
   ]
  },
  {
   "attachments": {},
   "cell_type": "markdown",
   "metadata": {},
   "source": [
    "Before we forget, let's save our trained models into .joblib files so we can use them later"
   ]
  },
  {
   "cell_type": "code",
   "execution_count": 22,
   "metadata": {},
   "outputs": [
    {
     "data": {
      "text/plain": [
       "['../model/label_encoder.joblib']"
      ]
     },
     "execution_count": 22,
     "metadata": {},
     "output_type": "execute_result"
    }
   ],
   "source": [
    "joblib.dump(vectorizer, c.VECTORIZER_JOBLIB)\n",
    "joblib.dump(model, c.CLASSIFIER_JOBLIB)\n",
    "joblib.dump(label_encoder, c.LABEL_ENCODER_JOBLIB)"
   ]
  },
  {
   "cell_type": "code",
   "execution_count": null,
   "metadata": {},
   "outputs": [],
   "source": []
  }
 ],
 "metadata": {
  "kernelspec": {
   "display_name": "base",
   "language": "python",
   "name": "python3"
  },
  "language_info": {
   "codemirror_mode": {
    "name": "ipython",
    "version": 3
   },
   "file_extension": ".py",
   "mimetype": "text/x-python",
   "name": "python",
   "nbconvert_exporter": "python",
   "pygments_lexer": "ipython3",
   "version": "3.7.4"
  },
  "orig_nbformat": 4,
  "vscode": {
   "interpreter": {
    "hash": "c57f37cdf1350d7248651020ec824a6d24995fe34d357de6d1637f9067ca5540"
   }
  }
 },
 "nbformat": 4,
 "nbformat_minor": 2
}
