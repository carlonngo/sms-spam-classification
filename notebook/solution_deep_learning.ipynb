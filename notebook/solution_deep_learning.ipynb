{
 "cells": [
  {
   "attachments": {},
   "cell_type": "markdown",
   "metadata": {},
   "source": [
    "I highly recomend going through the solutions_sklearn.ipynb first since the general problem solving process are detailed there.\\\n",
    "Here, I will focus on the deep learning side of things."
   ]
  },
  {
   "cell_type": "code",
   "execution_count": 1,
   "metadata": {},
   "outputs": [],
   "source": [
    "import csv\n",
    "import joblib\n",
    "import numpy as np\n",
    "import pandas as pd\n",
    "from keras.models import Sequential\n",
    "from keras.layers import Embedding, GRU, Dense, Dropout\n",
    "from keras_preprocessing.sequence import pad_sequences\n",
    "from keras_preprocessing.text import Tokenizer\n",
    "from sklearn.preprocessing import LabelEncoder\n",
    "from sklearn.model_selection import train_test_split\n",
    "from sklearn.metrics import f1_score, confusion_matrix, ConfusionMatrixDisplay\n",
    "import sys\n",
    "sys.path.append('../code/')\n",
    "import constants as c"
   ]
  },
  {
   "cell_type": "code",
   "execution_count": 2,
   "metadata": {},
   "outputs": [
    {
     "name": "stdout",
     "output_type": "stream",
     "text": [
      "<class 'pandas.core.frame.DataFrame'>\n",
      "RangeIndex: 5574 entries, 0 to 5573\n",
      "Data columns (total 2 columns):\n",
      " #   Column  Non-Null Count  Dtype \n",
      "---  ------  --------------  ----- \n",
      " 0   label   5574 non-null   object\n",
      " 1   body    5574 non-null   object\n",
      "dtypes: object(2)\n",
      "memory usage: 87.2+ KB\n"
     ]
    }
   ],
   "source": [
    "df = pd.read_csv(c.RAW_FILE, header=None, delimiter='\\t', quoting=csv.QUOTE_NONE)\n",
    "df.columns = ['label', 'body']\n",
    "df.info()"
   ]
  },
  {
   "attachments": {},
   "cell_type": "markdown",
   "metadata": {},
   "source": [
    "Instead of implementing the tokenization myself, here I used a convenient Keras tokenizer tool to do that. The numbers in the sequences represents the position of the words in a dictionary."
   ]
  },
  {
   "cell_type": "code",
   "execution_count": null,
   "metadata": {},
   "outputs": [],
   "source": [
    "tokenizer = Tokenizer()\n",
    "tokenizer.fit_on_texts(df['body'])\n",
    "sequences = tokenizer.texts_to_sequences(df['body'])"
   ]
  },
  {
   "attachments": {},
   "cell_type": "markdown",
   "metadata": {},
   "source": [
    "Similar to what I did in the random forest classifier, I encoded the labels (spam/ham) as numbers since this is the expected format of the deep learning algorithm"
   ]
  },
  {
   "cell_type": "code",
   "execution_count": 4,
   "metadata": {},
   "outputs": [],
   "source": [
    "label_encoder = LabelEncoder()\n",
    "labels = label_encoder.fit_transform(df[\"label\"])"
   ]
  },
  {
   "attachments": {},
   "cell_type": "markdown",
   "metadata": {},
   "source": [
    "The input layer of a deep learning model has a fixed input size. Here I used another keras_preprocessing tool to pad the inputs to match the expectation of the deep learning model."
   ]
  },
  {
   "cell_type": "code",
   "execution_count": 5,
   "metadata": {},
   "outputs": [],
   "source": [
    "max_sequence_length = max([len(seq) for seq in sequences])\n",
    "sequences = pad_sequences(sequences, maxlen=max_sequence_length)"
   ]
  },
  {
   "attachments": {},
   "cell_type": "markdown",
   "metadata": {},
   "source": [
    "Split the data into training, validation and testing sets"
   ]
  },
  {
   "cell_type": "code",
   "execution_count": 6,
   "metadata": {},
   "outputs": [],
   "source": [
    "X_train, X_test, y_train, y_test = train_test_split(sequences, labels, test_size=0.2, random_state=42)\n",
    "X_train, X_val, y_train, y_val = train_test_split(X_train, y_train, test_size=0.25, random_state=42)"
   ]
  },
  {
   "attachments": {},
   "cell_type": "markdown",
   "metadata": {},
   "source": [
    "Now, lets build our deep learning model:\n",
    "Sequentials means that is a simple linear stack of layers (i.e, no skip connections).\n",
    "1. Embedding layer - learns to represent words in a vector space (i.e., words that are related have smaller vector distance than unrelated workds)\n",
    "2. Gated Recurrent Unit(GRU) - Layer that is designed to work with long sequence data. Commonly used for NLP and time-series data.\n",
    "3. Dropout - Layers that is added for regularization purposes. This switches off connections during training, preventing units from 'co-learning' patterns\n",
    "4. Dense - Sigmoid activation function with which output values between 0,1. The closer the value to 1 the more likely it is a spam.\n",
    "\n",
    "loss is binary_crossentropy because we are working with single output(either 0 or 1) classification problem. \\\n",
    "metric is AUC because we care less about the accuracy since this is an imbalanced dataset."
   ]
  },
  {
   "cell_type": "code",
   "execution_count": 20,
   "metadata": {},
   "outputs": [
    {
     "name": "stdout",
     "output_type": "stream",
     "text": [
      "Summary of the built model...\n",
      "Model: \"sequential_4\"\n",
      "_________________________________________________________________\n",
      " Layer (type)                Output Shape              Param #   \n",
      "=================================================================\n",
      " embedding_4 (Embedding)     (None, 189, 100)          901000    \n",
      "                                                                 \n",
      " gru_4 (GRU)                 (None, 128)               88320     \n",
      "                                                                 \n",
      " dropout_4 (Dropout)         (None, 128)               0         \n",
      "                                                                 \n",
      " dense_4 (Dense)             (None, 1)                 129       \n",
      "                                                                 \n",
      "=================================================================\n",
      "Total params: 989,449\n",
      "Trainable params: 989,449\n",
      "Non-trainable params: 0\n",
      "_________________________________________________________________\n",
      "None\n"
     ]
    }
   ],
   "source": [
    "embedding_dim = 100\n",
    "model = Sequential()\n",
    "model.add(\n",
    "    Embedding(input_dim=len(tokenizer.word_index) + 1, output_dim=embedding_dim, input_length=max_sequence_length)\n",
    ")\n",
    "model.add(GRU(128))\n",
    "model.add(Dropout(0.5))\n",
    "model.add(Dense(1, activation='sigmoid'))\n",
    "\n",
    "model.compile(loss='binary_crossentropy', metrics=['AUC'])\n",
    "print('Summary of the built model...')\n",
    "print(model.summary())"
   ]
  },
  {
   "attachments": {},
   "cell_type": "markdown",
   "metadata": {},
   "source": [
    "batch_size - number of training samples per iteration. Larger numbers risk the model being trapped in a local optima. Smaller ones have the tendency to hang around in the immediate area of the global optima.\n",
    "epochs - number of times the model go through the dataset. A common technique is to stop the training when the metrics start to plateu or decline. It is called early stopping and it prevents overfitting."
   ]
  },
  {
   "cell_type": "code",
   "execution_count": 15,
   "metadata": {},
   "outputs": [
    {
     "name": "stdout",
     "output_type": "stream",
     "text": [
      "Epoch 1/2\n"
     ]
    },
    {
     "name": "stdout",
     "output_type": "stream",
     "text": [
      "53/53 [==============================] - 21s 323ms/step - loss: 0.3347 - auc: 0.7887 - val_loss: 0.0965 - val_auc: 0.9844\n",
      "Epoch 2/2\n",
      "53/53 [==============================] - 15s 291ms/step - loss: 0.0483 - auc: 0.9938 - val_loss: 0.0405 - val_auc: 0.9941\n"
     ]
    },
    {
     "data": {
      "text/plain": [
       "<keras.callbacks.History at 0x1bd51a38ad0>"
      ]
     },
     "execution_count": 15,
     "metadata": {},
     "output_type": "execute_result"
    }
   ],
   "source": [
    "batch_size = 64\n",
    "epochs = 2\n",
    "model.fit(X_train, y_train, batch_size=batch_size, epochs=epochs, validation_data=(X_val, y_val))"
   ]
  },
  {
   "cell_type": "code",
   "execution_count": 16,
   "metadata": {},
   "outputs": [
    {
     "name": "stdout",
     "output_type": "stream",
     "text": [
      "35/35 [==============================] - 3s 55ms/step\n"
     ]
    }
   ],
   "source": [
    "preds = model.predict(X_test)\n",
    "pred_binary = np.round(preds).astype(int)"
   ]
  },
  {
   "cell_type": "code",
   "execution_count": 17,
   "metadata": {},
   "outputs": [
    {
     "data": {
      "text/plain": [
       "<sklearn.metrics._plot.confusion_matrix.ConfusionMatrixDisplay at 0x1bd5cda84d0>"
      ]
     },
     "execution_count": 17,
     "metadata": {},
     "output_type": "execute_result"
    },
    {
     "data": {
      "image/png": "[encoded data removed]",
      "text/plain": [
       "<Figure size 640x480 with 2 Axes>"
      ]
     },
     "metadata": {},
     "output_type": "display_data"
    }
   ],
   "source": [
    "cm = confusion_matrix(y_test, pred_binary)\n",
    "ConfusionMatrixDisplay(confusion_matrix=cm).plot()"
   ]
  },
  {
   "cell_type": "code",
   "execution_count": 18,
   "metadata": {},
   "outputs": [
    {
     "data": {
      "text/plain": [
       "0.9712460063897763"
      ]
     },
     "execution_count": 18,
     "metadata": {},
     "output_type": "execute_result"
    }
   ],
   "source": [
    "f1_score(y_test, pred_binary)"
   ]
  },
  {
   "attachments": {},
   "cell_type": "markdown",
   "metadata": {},
   "source": [
    "CONCLUSION:\n",
    "\n",
    "Confusion Matrix:\n",
    "* True Positives(152) - The number of spams correctly predicted as spams, we want to maximize this\n",
    "* True Negatives(954) - The number of hams correctly predicted as hams, we want to maximize this\n",
    "* False Positives(0)  - The number of hams mispredicted as spams, we want to minimize this\n",
    "* False Negatives(9) - The number of spams mispredicted as hams, we want to minimize this\n",
    "\n",
    "F1_SCORE(0.971) - Ideally 1\n",
    "\n",
    "In terms of its classification ability, this is an overall better model than the optimized random forest classifier because of the f1_score. It has also perfectly learned to classify hams which is a game changer for people who don't like their messages blocked. All this, while ALSO improving its recall. "
   ]
  },
  {
   "attachments": {},
   "cell_type": "markdown",
   "metadata": {},
   "source": [
    "Saving model artifacts to be used by the inference code."
   ]
  },
  {
   "cell_type": "code",
   "execution_count": 19,
   "metadata": {},
   "outputs": [],
   "source": [
    "joblib.dump(tokenizer, c.TOKENIZER_JOBLIB)\n",
    "joblib.dump(label_encoder, c.KERAS_LABEL_ENCODER_JOBLIB)\n",
    "model.save(c.KERAS_CLASSIFIER)"
   ]
  }
 ],
 "metadata": {
  "kernelspec": {
   "display_name": ".venv",
   "language": "python",
   "name": "python3"
  },
  "language_info": {
   "codemirror_mode": {
    "name": "ipython",
    "version": 3
   },
   "file_extension": ".py",
   "mimetype": "text/x-python",
   "name": "python",
   "nbconvert_exporter": "python",
   "pygments_lexer": "ipython3",
   "version": "3.11.4"
  },
  "orig_nbformat": 4
 },
 "nbformat": 4,
 "nbformat_minor": 2
}
